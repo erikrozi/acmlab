{
  "nbformat": 4,
  "nbformat_minor": 0,
  "metadata": {
    "colab": {
      "name": "unsupervised.ipynb",
      "provenance": [],
      "include_colab_link": true
    },
    "kernelspec": {
      "name": "python3",
      "display_name": "Python 3"
    }
  },
  "cells": [
    {
      "cell_type": "markdown",
      "metadata": {
        "id": "view-in-github",
        "colab_type": "text"
      },
      "source": [
        "<a href=\"https://colab.research.google.com/github/erikrozi/acmlab/blob/main/unsupervised.ipynb\" target=\"_parent\"><img src=\"https://colab.research.google.com/assets/colab-badge.svg\" alt=\"Open In Colab\"/></a>"
      ]
    },
    {
      "cell_type": "code",
      "metadata": {
        "id": "bJ3Z_H4bjbvT"
      },
      "source": [
        "# Importing the standard ML libraries...\n",
        "%load_ext autoreload\n",
        "%autoreload 2\n",
        "\n",
        "import pandas as pd                     # to process our data\n",
        "import matplotlib.pyplot as plt         # graphing\n",
        "import numpy as np                      # matrices\n",
        "\n",
        "import torch\n",
        "import torchvision                      # for MNIST dataset/working with images\n",
        "\n",
        "# take advantage of GPU if available\n",
        "device = torch.device('cuda') if torch.cuda.is_available() else torch.device('cpu')"
      ],
      "execution_count": null,
      "outputs": []
    },
    {
      "cell_type": "code",
      "metadata": {
        "id": "zJ_JSMRlkMZF",
        "outputId": "f7a1d882-a988-48c4-ebdd-f7ef0351484e",
        "colab": {
          "base_uri": "https://localhost:8080/",
          "height": 136
        }
      },
      "source": [
        "from torch.utils.data import Dataset\n",
        "from PIL import Image\n",
        "\n",
        "class TileImageryDataset(Dataset):\n",
        "  \"\"\"Tile imagery dataset.\"\"\"\n",
        "\n",
        "  def __init__(self, images_zip_path):\n",
        "    # Load into tensors\n",
        "\n",
        "    # Perform data augmentation\n",
        "\n",
        "  def load_images(images_zip_path):\n",
        "    for x in range(2794, 2839):\n",
        "      for y in range(6528, 6572):\n",
        "        "
      ],
      "execution_count": null,
      "outputs": [
        {
          "output_type": "error",
          "ename": "SyntaxError",
          "evalue": "ignored",
          "traceback": [
            "\u001b[0;36m  File \u001b[0;32m\"<ipython-input-2-a1af3d81df9a>\"\u001b[0;36m, line \u001b[0;32m3\u001b[0m\n\u001b[0;31m    class TileImageryDataset(Dataset):\u001b[0m\n\u001b[0m                                      ^\u001b[0m\n\u001b[0;31mSyntaxError\u001b[0m\u001b[0;31m:\u001b[0m unexpected EOF while parsing\n"
          ]
        }
      ]
    }
  ]
}