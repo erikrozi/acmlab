{
  "nbformat": 4,
  "nbformat_minor": 0,
  "metadata": {
    "colab": {
      "name": "unsupervised.ipynb",
      "provenance": [],
      "toc_visible": true,
      "authorship_tag": "ABX9TyPq2yF+DjexI22K16Y6BMEi",
      "include_colab_link": true
    },
    "kernelspec": {
      "name": "python3",
      "display_name": "Python 3"
    }
  },
  "cells": [
    {
      "cell_type": "markdown",
      "metadata": {
        "id": "view-in-github",
        "colab_type": "text"
      },
      "source": [
        "<a href=\"https://colab.research.google.com/github/erikrozi/acmlab/blob/main/unsupervised.ipynb\" target=\"_parent\"><img src=\"https://colab.research.google.com/assets/colab-badge.svg\" alt=\"Open In Colab\"/></a>"
      ]
    },
    {
      "cell_type": "code",
      "metadata": {
        "id": "c2MLzIllFeoH",
        "outputId": "cb41f6ac-b21d-499e-a6d4-af12be93fa5f",
        "colab": {
          "base_uri": "https://localhost:8080/",
          "height": 51
        }
      },
      "source": [
        "# this mounts your Google Drive to the Colab VM.\n",
        "from google.colab import drive\n",
        "drive.mount('/content/drive', force_remount=True)\n",
        "\n",
        "# enter the foldername in the Shared Google Drive\n",
        "FOLDERNAME = 'Shared drives/Unsupervised'\n",
        "assert FOLDERNAME is not None, \"[!] Enter the foldername.\"\n",
        "\n",
        "# now that we've mounted your Drive, this ensures that\n",
        "# the Python interpreter of the Colab VM can load\n",
        "# python files from within it.\n",
        "import sys\n",
        "sys.path.append('/content/drive/{}'.format(FOLDERNAME))\n",
        "\n",
        "%cd /content/drive/$FOLDERNAME/"
      ],
      "execution_count": 4,
      "outputs": [
        {
          "output_type": "stream",
          "text": [
            "Mounted at /content/drive\n",
            "/content/drive/Shared drives/Unsupervised\n"
          ],
          "name": "stdout"
        }
      ]
    },
    {
      "cell_type": "code",
      "metadata": {
        "id": "JUGAIt31FkZH"
      },
      "source": [
        "# Importing the standard ML libraries...\n",
        "%load_ext autoreload\n",
        "%autoreload 2\n",
        "\n",
        "import pandas as pd                     # to process our data\n",
        "import matplotlib.pyplot as plt         # graphing\n",
        "import numpy as np                      # matrices\n",
        "\n",
        "import torch\n",
        "import torchvision                      # for MNIST dataset/working with images\n",
        "\n",
        "# take advantage of GPU if available\n",
        "device = torch.device('cuda') if torch.cuda.is_available() else torch.device('cpu')"
      ],
      "execution_count": 2,
      "outputs": []
    },
    {
      "cell_type": "markdown",
      "metadata": {
        "id": "80ZcQGejHjWq"
      },
      "source": [
        "# Load Census Data"
      ]
    },
    {
      "cell_type": "code",
      "metadata": {
        "id": "9HZCWE39HxEk",
        "outputId": "a243e26f-a8ca-4304-b5af-8608ddcfcc11",
        "colab": {
          "base_uri": "https://localhost:8080/",
          "height": 419
        }
      },
      "source": [
        "tax_returns_data = pd.read_csv(\"16zpallnoagi.csv\")\n",
        "cleaned_tax_data = pd.DataFrame(tax_returns_data, columns = [\"ZIPCODE\", \"N1\", \"A02650\"])\n",
        "\n",
        "cleaned_tax_data"
      ],
      "execution_count": 7,
      "outputs": [
        {
          "output_type": "execute_result",
          "data": {
            "text/html": [
              "<div>\n",
              "<style scoped>\n",
              "    .dataframe tbody tr th:only-of-type {\n",
              "        vertical-align: middle;\n",
              "    }\n",
              "\n",
              "    .dataframe tbody tr th {\n",
              "        vertical-align: top;\n",
              "    }\n",
              "\n",
              "    .dataframe thead th {\n",
              "        text-align: right;\n",
              "    }\n",
              "</style>\n",
              "<table border=\"1\" class=\"dataframe\">\n",
              "  <thead>\n",
              "    <tr style=\"text-align: right;\">\n",
              "      <th></th>\n",
              "      <th>ZIPCODE</th>\n",
              "      <th>N1</th>\n",
              "      <th>A02650</th>\n",
              "    </tr>\n",
              "  </thead>\n",
              "  <tbody>\n",
              "    <tr>\n",
              "      <th>0</th>\n",
              "      <td>0</td>\n",
              "      <td>2016530</td>\n",
              "      <td>115806207</td>\n",
              "    </tr>\n",
              "    <tr>\n",
              "      <th>1</th>\n",
              "      <td>35004</td>\n",
              "      <td>5210</td>\n",
              "      <td>290260</td>\n",
              "    </tr>\n",
              "    <tr>\n",
              "      <th>2</th>\n",
              "      <td>35005</td>\n",
              "      <td>3100</td>\n",
              "      <td>121690</td>\n",
              "    </tr>\n",
              "    <tr>\n",
              "      <th>3</th>\n",
              "      <td>35006</td>\n",
              "      <td>1200</td>\n",
              "      <td>57418</td>\n",
              "    </tr>\n",
              "    <tr>\n",
              "      <th>4</th>\n",
              "      <td>35007</td>\n",
              "      <td>11940</td>\n",
              "      <td>697882</td>\n",
              "    </tr>\n",
              "    <tr>\n",
              "      <th>...</th>\n",
              "      <td>...</td>\n",
              "      <td>...</td>\n",
              "      <td>...</td>\n",
              "    </tr>\n",
              "    <tr>\n",
              "      <th>29969</th>\n",
              "      <td>83126</td>\n",
              "      <td>170</td>\n",
              "      <td>10687</td>\n",
              "    </tr>\n",
              "    <tr>\n",
              "      <th>29970</th>\n",
              "      <td>83127</td>\n",
              "      <td>1470</td>\n",
              "      <td>109088</td>\n",
              "    </tr>\n",
              "    <tr>\n",
              "      <th>29971</th>\n",
              "      <td>83128</td>\n",
              "      <td>920</td>\n",
              "      <td>88463</td>\n",
              "    </tr>\n",
              "    <tr>\n",
              "      <th>29972</th>\n",
              "      <td>83414</td>\n",
              "      <td>200</td>\n",
              "      <td>44409</td>\n",
              "    </tr>\n",
              "    <tr>\n",
              "      <th>29973</th>\n",
              "      <td>99999</td>\n",
              "      <td>8650</td>\n",
              "      <td>702791</td>\n",
              "    </tr>\n",
              "  </tbody>\n",
              "</table>\n",
              "<p>29974 rows × 3 columns</p>\n",
              "</div>"
            ],
            "text/plain": [
              "       ZIPCODE       N1     A02650\n",
              "0            0  2016530  115806207\n",
              "1        35004     5210     290260\n",
              "2        35005     3100     121690\n",
              "3        35006     1200      57418\n",
              "4        35007    11940     697882\n",
              "...        ...      ...        ...\n",
              "29969    83126      170      10687\n",
              "29970    83127     1470     109088\n",
              "29971    83128      920      88463\n",
              "29972    83414      200      44409\n",
              "29973    99999     8650     702791\n",
              "\n",
              "[29974 rows x 3 columns]"
            ]
          },
          "metadata": {
            "tags": []
          },
          "execution_count": 7
        }
      ]
    },
    {
      "cell_type": "code",
      "metadata": {
        "id": "GumonUHAJed0",
        "outputId": "f1cc582f-0ed6-49d4-acbf-2eba0c68d15e",
        "colab": {
          "base_uri": "https://localhost:8080/",
          "height": 419
        }
      },
      "source": [
        "ziplatlon_data = pd.read_csv(\"ziplatlon.csv\", sep = \";\")\n",
        "ziplatlon_data"
      ],
      "execution_count": 8,
      "outputs": [
        {
          "output_type": "execute_result",
          "data": {
            "text/html": [
              "<div>\n",
              "<style scoped>\n",
              "    .dataframe tbody tr th:only-of-type {\n",
              "        vertical-align: middle;\n",
              "    }\n",
              "\n",
              "    .dataframe tbody tr th {\n",
              "        vertical-align: top;\n",
              "    }\n",
              "\n",
              "    .dataframe thead th {\n",
              "        text-align: right;\n",
              "    }\n",
              "</style>\n",
              "<table border=\"1\" class=\"dataframe\">\n",
              "  <thead>\n",
              "    <tr style=\"text-align: right;\">\n",
              "      <th></th>\n",
              "      <th>zip</th>\n",
              "      <th>city</th>\n",
              "      <th>state</th>\n",
              "      <th>latitude</th>\n",
              "      <th>longitude</th>\n",
              "      <th>timezone</th>\n",
              "      <th>dst</th>\n",
              "      <th>geopoint</th>\n",
              "    </tr>\n",
              "  </thead>\n",
              "  <tbody>\n",
              "    <tr>\n",
              "      <th>0</th>\n",
              "      <td>71937</td>\n",
              "      <td>Cove</td>\n",
              "      <td>AR</td>\n",
              "      <td>34.398483</td>\n",
              "      <td>-94.39398</td>\n",
              "      <td>-6</td>\n",
              "      <td>1</td>\n",
              "      <td>34.398483,-94.39398</td>\n",
              "    </tr>\n",
              "    <tr>\n",
              "      <th>1</th>\n",
              "      <td>72044</td>\n",
              "      <td>Edgemont</td>\n",
              "      <td>AR</td>\n",
              "      <td>35.624351</td>\n",
              "      <td>-92.16056</td>\n",
              "      <td>-6</td>\n",
              "      <td>1</td>\n",
              "      <td>35.624351,-92.16056</td>\n",
              "    </tr>\n",
              "    <tr>\n",
              "      <th>2</th>\n",
              "      <td>56171</td>\n",
              "      <td>Sherburn</td>\n",
              "      <td>MN</td>\n",
              "      <td>43.660847</td>\n",
              "      <td>-94.74357</td>\n",
              "      <td>-6</td>\n",
              "      <td>1</td>\n",
              "      <td>43.660847,-94.74357</td>\n",
              "    </tr>\n",
              "    <tr>\n",
              "      <th>3</th>\n",
              "      <td>49430</td>\n",
              "      <td>Lamont</td>\n",
              "      <td>MI</td>\n",
              "      <td>43.010337</td>\n",
              "      <td>-85.89754</td>\n",
              "      <td>-5</td>\n",
              "      <td>1</td>\n",
              "      <td>43.010337,-85.89754</td>\n",
              "    </tr>\n",
              "    <tr>\n",
              "      <th>4</th>\n",
              "      <td>52585</td>\n",
              "      <td>Richland</td>\n",
              "      <td>IA</td>\n",
              "      <td>41.194129</td>\n",
              "      <td>-91.98027</td>\n",
              "      <td>-6</td>\n",
              "      <td>1</td>\n",
              "      <td>41.194129,-91.98027</td>\n",
              "    </tr>\n",
              "    <tr>\n",
              "      <th>...</th>\n",
              "      <td>...</td>\n",
              "      <td>...</td>\n",
              "      <td>...</td>\n",
              "      <td>...</td>\n",
              "      <td>...</td>\n",
              "      <td>...</td>\n",
              "      <td>...</td>\n",
              "      <td>...</td>\n",
              "    </tr>\n",
              "    <tr>\n",
              "      <th>43186</th>\n",
              "      <td>66860</td>\n",
              "      <td>Madison</td>\n",
              "      <td>KS</td>\n",
              "      <td>38.126728</td>\n",
              "      <td>-96.16635</td>\n",
              "      <td>-6</td>\n",
              "      <td>1</td>\n",
              "      <td>38.126728,-96.16635</td>\n",
              "    </tr>\n",
              "    <tr>\n",
              "      <th>43187</th>\n",
              "      <td>59602</td>\n",
              "      <td>Helena</td>\n",
              "      <td>MT</td>\n",
              "      <td>46.696501</td>\n",
              "      <td>-111.96895</td>\n",
              "      <td>-7</td>\n",
              "      <td>1</td>\n",
              "      <td>46.696501,-111.96895</td>\n",
              "    </tr>\n",
              "    <tr>\n",
              "      <th>43188</th>\n",
              "      <td>16063</td>\n",
              "      <td>Zelienople</td>\n",
              "      <td>PA</td>\n",
              "      <td>40.783001</td>\n",
              "      <td>-80.13343</td>\n",
              "      <td>-5</td>\n",
              "      <td>1</td>\n",
              "      <td>40.783001,-80.13343</td>\n",
              "    </tr>\n",
              "    <tr>\n",
              "      <th>43189</th>\n",
              "      <td>18913</td>\n",
              "      <td>Carversville</td>\n",
              "      <td>PA</td>\n",
              "      <td>40.376499</td>\n",
              "      <td>-75.04129</td>\n",
              "      <td>-5</td>\n",
              "      <td>1</td>\n",
              "      <td>40.376499,-75.04129</td>\n",
              "    </tr>\n",
              "    <tr>\n",
              "      <th>43190</th>\n",
              "      <td>25901</td>\n",
              "      <td>Oak Hill</td>\n",
              "      <td>WV</td>\n",
              "      <td>37.982775</td>\n",
              "      <td>-81.14533</td>\n",
              "      <td>-5</td>\n",
              "      <td>1</td>\n",
              "      <td>37.982775,-81.14533</td>\n",
              "    </tr>\n",
              "  </tbody>\n",
              "</table>\n",
              "<p>43191 rows × 8 columns</p>\n",
              "</div>"
            ],
            "text/plain": [
              "         zip          city state  ...  timezone  dst              geopoint\n",
              "0      71937          Cove    AR  ...        -6    1   34.398483,-94.39398\n",
              "1      72044      Edgemont    AR  ...        -6    1   35.624351,-92.16056\n",
              "2      56171      Sherburn    MN  ...        -6    1   43.660847,-94.74357\n",
              "3      49430        Lamont    MI  ...        -5    1   43.010337,-85.89754\n",
              "4      52585      Richland    IA  ...        -6    1   41.194129,-91.98027\n",
              "...      ...           ...   ...  ...       ...  ...                   ...\n",
              "43186  66860       Madison    KS  ...        -6    1   38.126728,-96.16635\n",
              "43187  59602        Helena    MT  ...        -7    1  46.696501,-111.96895\n",
              "43188  16063    Zelienople    PA  ...        -5    1   40.783001,-80.13343\n",
              "43189  18913  Carversville    PA  ...        -5    1   40.376499,-75.04129\n",
              "43190  25901      Oak Hill    WV  ...        -5    1   37.982775,-81.14533\n",
              "\n",
              "[43191 rows x 8 columns]"
            ]
          },
          "metadata": {
            "tags": []
          },
          "execution_count": 8
        }
      ]
    },
    {
      "cell_type": "markdown",
      "metadata": {
        "id": "1LdMD5FvFn4I"
      },
      "source": [
        "# Load the imagery data\n"
      ]
    },
    {
      "cell_type": "code",
      "metadata": {
        "id": "LAD8hbURFoZG"
      },
      "source": [
        "zip_path = \"?\"\n",
        "!cp \"{zip_path}\" .\n",
        "!unzip *.zip\n",
        "!rm *.zip"
      ],
      "execution_count": null,
      "outputs": []
    },
    {
      "cell_type": "code",
      "metadata": {
        "id": "Fa73VArKFs9W"
      },
      "source": [
        "from torch.utils.data import Dataset\n",
        "from PIL import Image\n",
        "from torchvision import transforms\n",
        "\n",
        "class TileImageryDataset(Dataset):\n",
        "  \"\"\"Tile imagery dataset.\"\"\"\n",
        "\n",
        "  def __init__(self, images_zip_path):\n",
        "    # Load into tensors\n",
        "\n",
        "    # Perform data augmentation\n",
        "\n",
        "# https://pytorch.org/tutorials/beginner/data_loading_tutorial.html\n",
        "  def load_images():\n",
        "    tensors = []\n",
        "    for x in range(2794, 2839):\n",
        "      for y in range(6528, 6572):\n",
        "        image = Image.open(f\"images/14_{x}_{y}.jpg\").convert(\"RGB\")\n",
        "        # TODO change\n",
        "        preprocess = transforms.Compose([\n",
        "            transforms.Resize(256),\n",
        "            transforms.CenterCrop(224),\n",
        "            transforms.ToTensor(),\n",
        "            transforms.Normalize(mean=[0.485, 0.456, 0.406], std=[0.229, 0.224, 0.225]),\n",
        "        ])\n",
        "        input_tensor = preprocess(image)\n",
        "        # tensory push thing?"
      ],
      "execution_count": null,
      "outputs": []
    }
  ]
}