{
  "nbformat": 4,
  "nbformat_minor": 0,
  "metadata": {
    "colab": {
      "name": "unsupervised.ipynb",
      "provenance": [],
      "authorship_tag": "ABX9TyMEmBFGZFxAN8lVnEyfNjI4",
      "include_colab_link": true
    },
    "kernelspec": {
      "name": "python3",
      "display_name": "Python 3"
    }
  },
  "cells": [
    {
      "cell_type": "markdown",
      "metadata": {
        "id": "view-in-github",
        "colab_type": "text"
      },
      "source": [
        "<a href=\"https://colab.research.google.com/github/erikrozi/acmlab/blob/main/unsupervised.ipynb\" target=\"_parent\"><img src=\"https://colab.research.google.com/assets/colab-badge.svg\" alt=\"Open In Colab\"/></a>"
      ]
    },
    {
      "cell_type": "code",
      "metadata": {
        "id": "c2MLzIllFeoH"
      },
      "source": [
        "# this mounts your Google Drive to the Colab VM.\n",
        "from google.colab import drive\n",
        "drive.mount('/content/drive', force_remount=True)\n",
        "\n",
        "# enter the foldername in your Drive where you have saved the unzipped\n",
        "# workshop folder, e.g. 'acmlab/workshops/week3'\n",
        "FOLDERNAME = 'Unsupervised'\n",
        "assert FOLDERNAME is not None, \"[!] Enter the foldername.\"\n",
        "\n",
        "# now that we've mounted your Drive, this ensures that\n",
        "# the Python interpreter of the Colab VM can load\n",
        "# python files from within it.\n",
        "import sys\n",
        "sys.path.append('/content/drive/')\n",
        "\n",
        "%cd /content/drive/"
      ],
      "execution_count": null,
      "outputs": []
    },
    {
      "cell_type": "code",
      "metadata": {
        "id": "JUGAIt31FkZH"
      },
      "source": [
        "# Importing the standard ML libraries...\n",
        "%load_ext autoreload\n",
        "%autoreload 2\n",
        "\n",
        "import pandas as pd                     # to process our data\n",
        "import matplotlib.pyplot as plt         # graphing\n",
        "import numpy as np                      # matrices\n",
        "\n",
        "import torch\n",
        "import torchvision                      # for MNIST dataset/working with images\n",
        "\n",
        "# take advantage of GPU if available\n",
        "device = torch.device('cuda') if torch.cuda.is_available() else torch.device('cpu')"
      ],
      "execution_count": null,
      "outputs": []
    },
    {
      "cell_type": "markdown",
      "metadata": {
        "id": "1LdMD5FvFn4I"
      },
      "source": [
        "# Load the imagery data\n"
      ]
    },
    {
      "cell_type": "code",
      "metadata": {
        "id": "LAD8hbURFoZG"
      },
      "source": [
        "zip_path = \"?\"\n",
        "!cp \"{zip_path}\" .\n",
        "!unzip *.zip\n",
        "!rm *.zip"
      ],
      "execution_count": null,
      "outputs": []
    },
    {
      "cell_type": "code",
      "metadata": {
        "id": "Fa73VArKFs9W"
      },
      "source": [
        "from torch.utils.data import Dataset\n",
        "from PIL import Image\n",
        "from torchvision import transforms\n",
        "\n",
        "class TileImageryDataset(Dataset):\n",
        "  \"\"\"Tile imagery dataset.\"\"\"\n",
        "\n",
        "  def __init__(self, images_zip_path):\n",
        "    # Load into tensors\n",
        "\n",
        "    # Perform data augmentation\n",
        "\n",
        "# https://pytorch.org/tutorials/beginner/data_loading_tutorial.html\n",
        "  def load_images():\n",
        "    tensors = []\n",
        "    for x in range(2794, 2839):\n",
        "      for y in range(6528, 6572):\n",
        "        image = Image.open(f\"images/14_{x}_{y}.jpg\").convert(\"RGB\")\n",
        "        # TODO change\n",
        "        preprocess = transforms.Compose([\n",
        "            transforms.Resize(256),\n",
        "            transforms.CenterCrop(224),\n",
        "            transforms.ToTensor(),\n",
        "            transforms.Normalize(mean=[0.485, 0.456, 0.406], std=[0.229, 0.224, 0.225]),\n",
        "        ])\n",
        "        input_tensor = preprocess(image)\n",
        "        # tensory push thing?"
      ],
      "execution_count": null,
      "outputs": []
    }
  ]
}